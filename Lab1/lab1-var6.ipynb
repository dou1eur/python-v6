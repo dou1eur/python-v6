{
 "cells": [
  {
   "cell_type": "markdown",
   "metadata": {},
   "source": [
    "# Application programming \n",
    "## Lab1-Var6\n",
    "**Student:** Yakovleva Yana Anatolyevna \n",
    "\n",
    "**Groupp:** 6213-100503D\n"
   ]
  },
  {
   "cell_type": "code",
   "execution_count": null,
   "metadata": {},
   "outputs": [],
   "source": [
    "#import libaries\n",
    "import os\n",
    "import requests\n",
    "from bs4 import BeautifulSoup"
   ]
  },
  {
   "cell_type": "code",
   "execution_count": null,
   "metadata": {},
   "outputs": [],
   "source": [
    "#function for creating folders\n",
    "def create_folders(folder_name_first,folder_name_second):\n",
    "  os.mkdir('dataset')\n",
    "  try:\n",
    "    os.mkdir(f'dataset/{folder_name_first}')\n",
    "    os.mkdir(f'dataset/{folder_name_second}')\n",
    "  except:\n",
    "    print(\"Problem! Try again\")"
   ]
  },
  {
   "cell_type": "code",
   "execution_count": null,
   "metadata": {},
   "outputs": [],
   "source": [
    "#function for downloading images\n",
    "def download_images(folder_name,split):\n",
    "  k=0\n",
    "  for p in range(0,5):\n",
    "    urls=f\"https://www.yandex.ru/images/search?lr=51&p={p}&rpt=image&{split}\"\n",
    "    r = requests.get(urls,headers={'User-Agent': 'Mozilla/5.0 (Macintosh; Intel Mac OS X 10_10_1) AppleWebKit/537.36 (KHTML, like Gecko) Chrome/39.0.2171.95 Safari/537.36'})\n",
    "    soup = BeautifulSoup(r.text, 'lxml')\n",
    "    images = soup.find_all('img')\n",
    "    if(len(images)==2):\n",
    "      print(\"Houston, we have a problem\")\n",
    "      continue\n",
    "    else:\n",
    "     count=0\n",
    "     i=k\n",
    "     for image in images[1:]:\n",
    "      src=\"https:\"+image['src']\n",
    "      response=requests.get(src, headers={\"User-Agent\":\"Mozilla/5.0\"})\n",
    "      with open(f\"dataset/{folder_name}/{format(i).zfill(4)}.jpg\",'wb') as f:\n",
    "        f.write(response.content)\n",
    "        count+=1\n",
    "        i+=1\n",
    "     k+=(i-1) \n",
    "     print(f\"Total {k} Image Found!\")\n",
    "    "
   ]
  },
  {
   "cell_type": "code",
   "execution_count": null,
   "metadata": {},
   "outputs": [],
   "source": [
    "#calling functions\n",
    "url_tiger='https://yandex.ru/images/search?text=leopard'\n",
    "url_leopard='https://yandex.ru/images/search?text=leopard'\n",
    "split_tiger=(url_tiger.split('?'))[1]\n",
    "split_leopard=(url_leopard.split('?'))[1]\n",
    "folder_name_tiger=\"tigers\"\n",
    "folder_name_leopard=\"leopards\"\n",
    "create_folders(folder_name_tiger,folder_name_leopard)\n",
    "download_images(folder_name_tiger,split_tiger)\n",
    "download_images(folder_name_leopard,split_leopard)"
   ]
  }
 ],
 "metadata": {
  "kernelspec": {
   "display_name": "Python 3",
   "language": "python",
   "name": "python3"
  },
  "language_info": {
   "name": "python",
   "version": "3.11.5"
  },
  "orig_nbformat": 4
 },
 "nbformat": 4,
 "nbformat_minor": 2
}
